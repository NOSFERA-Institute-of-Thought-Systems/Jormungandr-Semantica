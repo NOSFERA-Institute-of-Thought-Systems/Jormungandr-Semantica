{
 "cells": [
  {
   "cell_type": "code",
   "execution_count": 1,
   "id": "cb383c4f",
   "metadata": {},
   "outputs": [],
   "source": [
    "# notebooks/phase2_ablation_analysis.ipynb\n",
    "\n",
    "import pandas as pd\n",
    "import wandb\n",
    "from pathlib import Path\n",
    "\n",
    "# Configure pandas for better display\n",
    "pd.set_option('display.precision', 4)\n",
    "pd.set_option('display.max_rows', 100)\n",
    "\n"
   ]
  },
  {
   "cell_type": "code",
   "execution_count": null,
   "id": "ff0d2c45",
   "metadata": {},
   "outputs": [],
   "source": [
    "# --- 1. Fetch Data from W&B ---\n",
    "print(\"Fetching ablation suite runs from Weights & Biases...\")\n",
    "api = wandb.Api()\n",
    "\n",
    "# This query will select all runs from the ablation suite.\n",
    "# We filter by the job_type, which is set in the run_benchmark.py script.\n",
    "# We also filter for the 'jormungandr' method to exclude the baselines.\n",
    "runs = api.runs(\n",
    "    \"mohan-rangan-research-nosfera/Jormungandr-Semantica\",\n",
    "    filters={\n",
    "        \"job_type\": \"ablation\",\n",
    "        \"config.method\": \"jormungandr\",\n",
    "        \"state\": \"finished\" # Only get completed runs\n",
    "    }\n",
    ")\n",
    "\n",
    "print(f\"Found {len(runs)} runs to analyze.\")\n",
    "\n"
   ]
  },
  {
   "cell_type": "code",
   "execution_count": null,
   "id": "7657b9bd",
   "metadata": {},
   "outputs": [],
   "source": [
    "# --- 2. Process Runs into a DataFrame ---\n",
    "summary_list = []\n",
    "for run in runs:\n",
    "    # .summary contains the final metrics logged\n",
    "    # .config contains the hyperparameters\n",
    "    summary_list.append({\n",
    "        \"representation\": run.config.get(\"representation\"),\n",
    "        \"seed\": run.config.get(\"seed\"),\n",
    "        \"ARI\": run.summary.get(\"ARI\"),\n",
    "        \"runtime_seconds\": run.summary.get(\"runtime_seconds\")\n",
    "    })\n",
    "\n",
    "results_df = pd.DataFrame(summary_list)\n",
    "\n"
   ]
  },
  {
   "cell_type": "code",
   "execution_count": null,
   "id": "b99b16d2",
   "metadata": {},
   "outputs": [],
   "source": [
    "# --- 3. Data Cleaning and Initial Inspection ---\n",
    "results_df = results_df.dropna().sort_values(by=[\"representation\", \"seed\"]).reset_index(drop=True)\n",
    "\n",
    "print(\"\\nRaw Results DataFrame:\")\n",
    "display(results_df)\n",
    "\n"
   ]
  },
  {
   "cell_type": "code",
   "execution_count": null,
   "id": "593e7e1e",
   "metadata": {},
   "outputs": [],
   "source": [
    "# --- 4. Generate Publication-Ready Summary Table ---\n",
    "print(\"\\n--- Ablation Results: Mean ARI ± Std. Dev. ---\")\n",
    "\n",
    "# We will group by the 'representation' and aggregate the ARI scores\n",
    "summary_table = results_df.groupby('representation')['ARI'].agg(['mean', 'std'])\n",
    "\n",
    "# Ensure the table is ordered logically\n",
    "rep_order = ['direct', 'wavelet', 'acmw']\n",
    "summary_table = summary_table.reindex(rep_order)\n",
    "\n",
    "# Format the table for the paper\n",
    "formatted_table = pd.DataFrame(index=summary_table.index)\n",
    "formatted_table['Mean ARI'] = summary_table['mean']\n",
    "formatted_table['Std. Dev.'] = summary_table['std']\n",
    "formatted_table['Formatted ARI'] = summary_table.apply(\n",
    "    lambda row: f\"{row['mean']:.4f} ± {row['std']:.4f}\", axis=1\n",
    ")\n",
    "\n",
    "display(formatted_table)\n",
    "\n"
   ]
  },
  {
   "cell_type": "code",
   "execution_count": null,
   "id": "9ce846d8",
   "metadata": {},
   "outputs": [],
   "source": [
    "# --- 5. Save the Markdown table for easy inclusion in the paper ---\n",
    "markdown_output = formatted_table[['Formatted ARI']].to_markdown()\n",
    "print(\"\\nMarkdown for Paper (Table 8.1):\")\n",
    "print(markdown_output)\n",
    "\n",
    "# Save the raw data for future reference\n",
    "output_path = Path(\"../data/phase2_ablation_results.csv\")\n",
    "results_df.to_csv(output_path, index=False)\n",
    "print(f\"\\nRaw data for this analysis saved to {output_path}\")"
   ]
  }
 ],
 "metadata": {
  "kernelspec": {
   "display_name": "principia",
   "language": "python",
   "name": "python3"
  },
  "language_info": {
   "codemirror_mode": {
    "name": "ipython",
    "version": 3
   },
   "file_extension": ".py",
   "mimetype": "text/x-python",
   "name": "python",
   "nbconvert_exporter": "python",
   "pygments_lexer": "ipython3",
   "version": "3.10.18"
  }
 },
 "nbformat": 4,
 "nbformat_minor": 5
}
